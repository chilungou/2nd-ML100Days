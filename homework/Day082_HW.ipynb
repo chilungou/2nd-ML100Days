{
  "nbformat": 4,
  "nbformat_minor": 0,
  "metadata": {
    "anaconda-cloud": {},
    "kernelspec": {
      "display_name": "Python [Anaconda3]",
      "language": "python",
      "name": "Python [Anaconda3]"
    },
    "language_info": {
      "codemirror_mode": {
        "name": "ipython",
        "version": 3
      },
      "file_extension": ".py",
      "mimetype": "text/x-python",
      "name": "python",
      "nbconvert_exporter": "python",
      "pygments_lexer": "ipython3",
      "version": "3.5.6"
    },
    "colab": {
      "name": "Day082_HW.ipynb",
      "version": "0.3.2",
      "provenance": []
    }
  },
  "cells": [
    {
      "cell_type": "markdown",
      "metadata": {
        "id": "HbDdHu2_7CWg",
        "colab_type": "text"
      },
      "source": [
        "## Work\n",
        "1. 請比較使用不同層數以及不同 Dropout rate 對訓練的效果\n",
        "2. 將 optimizer 改成使用 Adam 並加上適當的 dropout rate 檢視結果"
      ]
    },
    {
      "cell_type": "code",
      "metadata": {
        "id": "EA0nhRNi7CWh",
        "colab_type": "code",
        "colab": {
          "base_uri": "https://localhost:8080/",
          "height": 34
        },
        "outputId": "f5ab6510-e0b8-4624-dfbe-601f6156a702"
      },
      "source": [
        "import os\n",
        "import keras\n",
        "import itertools\n",
        "# Disable GPU\n",
        "os.environ[\"CUDA_VISIBLE_DEVICES\"] = \"\""
      ],
      "execution_count": 1,
      "outputs": [
        {
          "output_type": "stream",
          "text": [
            "Using TensorFlow backend.\n"
          ],
          "name": "stderr"
        }
      ]
    },
    {
      "cell_type": "code",
      "metadata": {
        "id": "sl8Qc_3g7CWr",
        "colab_type": "code",
        "colab": {
          "base_uri": "https://localhost:8080/",
          "height": 50
        },
        "outputId": "0fbbac91-50c6-4097-dece-4a31c7ed6750"
      },
      "source": [
        "train, test = keras.datasets.cifar10.load_data()"
      ],
      "execution_count": 2,
      "outputs": [
        {
          "output_type": "stream",
          "text": [
            "Downloading data from https://www.cs.toronto.edu/~kriz/cifar-10-python.tar.gz\n",
            "170500096/170498071 [==============================] - 2s 0us/step\n"
          ],
          "name": "stdout"
        }
      ]
    },
    {
      "cell_type": "code",
      "metadata": {
        "id": "9xc1KbtA7CWu",
        "colab_type": "code",
        "colab": {}
      },
      "source": [
        "## 資料前處理\n",
        "def preproc_x(x, flatten=True):\n",
        "    x = x / 255.\n",
        "    if flatten:\n",
        "        x = x.reshape((len(x), -1))\n",
        "    return x\n",
        "\n",
        "def preproc_y(y, num_classes=10):\n",
        "    if y.shape[-1] == 1:\n",
        "        y = keras.utils.to_categorical(y, num_classes)\n",
        "    return y    "
      ],
      "execution_count": 0,
      "outputs": []
    },
    {
      "cell_type": "code",
      "metadata": {
        "id": "ShEgnOst7CWx",
        "colab_type": "code",
        "colab": {}
      },
      "source": [
        "x_train, y_train = train\n",
        "x_test, y_test = test\n",
        "\n",
        "# Preproc the inputs\n",
        "x_train = preproc_x(x_train)\n",
        "x_test = preproc_x(x_test)\n",
        "\n",
        "# Preprc the outputs\n",
        "y_train = preproc_y(y_train)\n",
        "y_test = preproc_y(y_test)"
      ],
      "execution_count": 0,
      "outputs": []
    },
    {
      "cell_type": "code",
      "metadata": {
        "id": "-sX00Z497CW0",
        "colab_type": "code",
        "colab": {}
      },
      "source": [
        "from keras.layers import Dropout\n",
        "\n",
        "\"\"\"\n",
        "建立神經網路，並加入 dropout layer\n",
        "\"\"\"\n",
        "def build_mlp(input_shape, output_units=10, num_neurons=[512, 256, 128, 64], drp_ratio=0.4):\n",
        "    input_layer = keras.layers.Input(input_shape)\n",
        "    \n",
        "    for i, n_units in enumerate(num_neurons):\n",
        "        if i == 0:\n",
        "            x = keras.layers.Dense(units=n_units, \n",
        "                                   activation=\"relu\", \n",
        "                                   name=\"hidden_layer\"+str(i+1))(input_layer)\n",
        "            x = Dropout(drp_ratio)(x)\n",
        "        else:\n",
        "            x = keras.layers.Dense(units=n_units, \n",
        "                                   activation=\"relu\", \n",
        "                                   name=\"hidden_layer\"+str(i+1))(x)\n",
        "            x = Dropout(drp_ratio)(x)\n",
        "    \n",
        "    out = keras.layers.Dense(units=output_units, activation=\"softmax\", name=\"output\")(x)\n",
        "    \n",
        "    model = keras.models.Model(inputs=[input_layer], outputs=[out])\n",
        "    return model"
      ],
      "execution_count": 0,
      "outputs": []
    },
    {
      "cell_type": "code",
      "metadata": {
        "id": "1vK2Jt0c7CW4",
        "colab_type": "code",
        "colab": {}
      },
      "source": [
        "\n",
        "LEARNING_RATE = 1e-3\n",
        "EPOCHS = 20\n",
        "BATCH_SIZE = 256\n",
        "\n",
        "Dropout_EXP = 0.25"
      ],
      "execution_count": 0,
      "outputs": []
    },
    {
      "cell_type": "code",
      "metadata": {
        "scrolled": true,
        "id": "2_f6GmDp7CW7",
        "colab_type": "code",
        "colab": {
          "base_uri": "https://localhost:8080/",
          "height": 1000
        },
        "outputId": "275a67b7-bbcf-42ba-bc32-028d0e49346d"
      },
      "source": [
        "model = build_mlp(input_shape=x_train.shape[1:], drp_ratio=Dropout_EXP)\n",
        "model.summary()\n",
        "optimizer = keras.optimizers.Adam(lr=LEARNING_RATE)\n",
        "model.compile(loss=\"categorical_crossentropy\", metrics=[\"accuracy\"], optimizer=optimizer)\n",
        "\n",
        "model.fit(x_train, y_train, \n",
        "          epochs=EPOCHS, \n",
        "          batch_size=BATCH_SIZE, \n",
        "          validation_data=(x_test, y_test), \n",
        "          shuffle=True)\n",
        "\n",
        "# Collect results\n",
        "train_loss = model.history.history[\"loss\"]\n",
        "valid_loss = model.history.history[\"val_loss\"]\n",
        "train_acc = model.history.history[\"acc\"]\n",
        "valid_acc = model.history.history[\"val_acc\"]"
      ],
      "execution_count": 10,
      "outputs": [
        {
          "output_type": "stream",
          "text": [
            "W0719 11:12:53.819222 139999449266048 deprecation_wrapper.py:119] From /usr/local/lib/python3.6/dist-packages/keras/optimizers.py:790: The name tf.train.Optimizer is deprecated. Please use tf.compat.v1.train.Optimizer instead.\n",
            "\n",
            "W0719 11:12:53.832178 139999449266048 deprecation_wrapper.py:119] From /usr/local/lib/python3.6/dist-packages/keras/backend/tensorflow_backend.py:3295: The name tf.log is deprecated. Please use tf.math.log instead.\n",
            "\n",
            "W0719 11:12:53.969325 139999449266048 deprecation.py:323] From /usr/local/lib/python3.6/dist-packages/tensorflow/python/ops/math_grad.py:1250: add_dispatch_support.<locals>.wrapper (from tensorflow.python.ops.array_ops) is deprecated and will be removed in a future version.\n",
            "Instructions for updating:\n",
            "Use tf.where in 2.0, which has the same broadcast rule as np.where\n"
          ],
          "name": "stderr"
        },
        {
          "output_type": "stream",
          "text": [
            "_________________________________________________________________\n",
            "Layer (type)                 Output Shape              Param #   \n",
            "=================================================================\n",
            "input_3 (InputLayer)         (None, 3072)              0         \n",
            "_________________________________________________________________\n",
            "hidden_layer1 (Dense)        (None, 512)               1573376   \n",
            "_________________________________________________________________\n",
            "dropout_9 (Dropout)          (None, 512)               0         \n",
            "_________________________________________________________________\n",
            "hidden_layer2 (Dense)        (None, 256)               131328    \n",
            "_________________________________________________________________\n",
            "dropout_10 (Dropout)         (None, 256)               0         \n",
            "_________________________________________________________________\n",
            "hidden_layer3 (Dense)        (None, 128)               32896     \n",
            "_________________________________________________________________\n",
            "dropout_11 (Dropout)         (None, 128)               0         \n",
            "_________________________________________________________________\n",
            "hidden_layer4 (Dense)        (None, 64)                8256      \n",
            "_________________________________________________________________\n",
            "dropout_12 (Dropout)         (None, 64)                0         \n",
            "_________________________________________________________________\n",
            "output (Dense)               (None, 10)                650       \n",
            "=================================================================\n",
            "Total params: 1,746,506\n",
            "Trainable params: 1,746,506\n",
            "Non-trainable params: 0\n",
            "_________________________________________________________________\n",
            "Train on 50000 samples, validate on 10000 samples\n",
            "Epoch 1/20\n",
            "50000/50000 [==============================] - 15s 306us/step - loss: 2.1357 - acc: 0.1915 - val_loss: 1.9279 - val_acc: 0.2952\n",
            "Epoch 2/20\n",
            "50000/50000 [==============================] - 14s 287us/step - loss: 1.9688 - acc: 0.2709 - val_loss: 1.8727 - val_acc: 0.3199\n",
            "Epoch 3/20\n",
            "50000/50000 [==============================] - 14s 288us/step - loss: 1.9069 - acc: 0.3014 - val_loss: 1.8102 - val_acc: 0.3413\n",
            "Epoch 4/20\n",
            "50000/50000 [==============================] - 14s 288us/step - loss: 1.8700 - acc: 0.3138 - val_loss: 1.7675 - val_acc: 0.3694\n",
            "Epoch 5/20\n",
            "50000/50000 [==============================] - 14s 288us/step - loss: 1.8406 - acc: 0.3299 - val_loss: 1.7597 - val_acc: 0.3859\n",
            "Epoch 6/20\n",
            "50000/50000 [==============================] - 14s 284us/step - loss: 1.8159 - acc: 0.3388 - val_loss: 1.7200 - val_acc: 0.3884\n",
            "Epoch 7/20\n",
            "50000/50000 [==============================] - 14s 283us/step - loss: 1.7947 - acc: 0.3507 - val_loss: 1.6979 - val_acc: 0.3955\n",
            "Epoch 8/20\n",
            "50000/50000 [==============================] - 14s 284us/step - loss: 1.7747 - acc: 0.3566 - val_loss: 1.6908 - val_acc: 0.4010\n",
            "Epoch 9/20\n",
            "50000/50000 [==============================] - 14s 285us/step - loss: 1.7613 - acc: 0.3640 - val_loss: 1.6936 - val_acc: 0.4052\n",
            "Epoch 10/20\n",
            "50000/50000 [==============================] - 14s 282us/step - loss: 1.7530 - acc: 0.3667 - val_loss: 1.6730 - val_acc: 0.4133\n",
            "Epoch 11/20\n",
            "50000/50000 [==============================] - 14s 284us/step - loss: 1.7463 - acc: 0.3673 - val_loss: 1.6876 - val_acc: 0.4114\n",
            "Epoch 12/20\n",
            "50000/50000 [==============================] - 14s 283us/step - loss: 1.7360 - acc: 0.3751 - val_loss: 1.6698 - val_acc: 0.4111\n",
            "Epoch 13/20\n",
            "50000/50000 [==============================] - 14s 281us/step - loss: 1.7211 - acc: 0.3768 - val_loss: 1.6475 - val_acc: 0.4163\n",
            "Epoch 14/20\n",
            "50000/50000 [==============================] - 14s 282us/step - loss: 1.7081 - acc: 0.3829 - val_loss: 1.6253 - val_acc: 0.4239\n",
            "Epoch 15/20\n",
            "50000/50000 [==============================] - 14s 282us/step - loss: 1.7131 - acc: 0.3844 - val_loss: 1.6490 - val_acc: 0.4187\n",
            "Epoch 16/20\n",
            "50000/50000 [==============================] - 14s 281us/step - loss: 1.7019 - acc: 0.3870 - val_loss: 1.6151 - val_acc: 0.4326\n",
            "Epoch 17/20\n",
            "50000/50000 [==============================] - 14s 282us/step - loss: 1.6944 - acc: 0.3888 - val_loss: 1.5889 - val_acc: 0.4433\n",
            "Epoch 18/20\n",
            "50000/50000 [==============================] - 14s 282us/step - loss: 1.6828 - acc: 0.3949 - val_loss: 1.5998 - val_acc: 0.4378\n",
            "Epoch 19/20\n",
            "50000/50000 [==============================] - 14s 282us/step - loss: 1.6813 - acc: 0.3941 - val_loss: 1.6072 - val_acc: 0.4262\n",
            "Epoch 20/20\n",
            "50000/50000 [==============================] - 14s 285us/step - loss: 1.6828 - acc: 0.3944 - val_loss: 1.5957 - val_acc: 0.4282\n"
          ],
          "name": "stdout"
        }
      ]
    },
    {
      "cell_type": "code",
      "metadata": {
        "id": "zBJKnmPk7CW-",
        "colab_type": "code",
        "colab": {
          "base_uri": "https://localhost:8080/",
          "height": 545
        },
        "outputId": "753c5062-073d-443f-c686-f02051bd9645"
      },
      "source": [
        "import matplotlib.pyplot as plt\n",
        "%matplotlib inline\n",
        "\n",
        "plt.plot(range(len(train_loss)), train_loss, label=\"train loss\")\n",
        "plt.plot(range(len(valid_loss)), valid_loss, label=\"valid loss\")\n",
        "plt.legend()\n",
        "plt.title(\"Loss\")\n",
        "plt.show()\n",
        "\n",
        "plt.plot(range(len(train_acc)), train_acc, label=\"train accuracy\")\n",
        "plt.plot(range(len(valid_acc)), valid_acc, label=\"valid accuracy\")\n",
        "plt.legend()\n",
        "plt.title(\"Accuracy\")\n",
        "plt.show()"
      ],
      "execution_count": 11,
      "outputs": [
        {
          "output_type": "display_data",
          "data": {
            "image/png": "[encoded data removed]",
            "text/plain": [
              "<Figure size 432x288 with 1 Axes>"
            ]
          },
          "metadata": {
            "tags": []
          }
        },
        {
          "output_type": "display_data",
          "data": {
            "image/png": "[encoded data removed]",
            "text/plain": [
              "<Figure size 432x288 with 1 Axes>"
            ]
          },
          "metadata": {
            "tags": []
          }
        }
      ]
    }
  ]
}