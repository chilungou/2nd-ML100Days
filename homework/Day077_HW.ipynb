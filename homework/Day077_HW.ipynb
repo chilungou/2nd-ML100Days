{
  "nbformat": 4,
  "nbformat_minor": 0,
  "metadata": {
    "colab": {
      "name": "Day077_HW.ipynb",
      "version": "0.3.2",
      "provenance": []
    },
    "language_info": {
      "codemirror_mode": {
        "name": "ipython",
        "version": 3
      },
      "file_extension": ".py",
      "mimetype": "text/x-python",
      "name": "python",
      "nbconvert_exporter": "python",
      "pygments_lexer": "ipython3",
      "version": "3.5.6"
    },
    "kernelspec": {
      "display_name": "Python [Anaconda3]",
      "language": "python",
      "name": "Python [Anaconda3]"
    }
  },
  "cells": [
    {
      "cell_type": "markdown",
      "metadata": {
        "id": "ytdPhvAdCiQB",
        "colab_type": "text"
      },
      "source": [
        "## Work\n",
        "1. 請將 Epoch 加到 500 個，並觀察 learning curve 的走勢\n",
        "2. 請將 Optimizer 換成 SGD，並觀察 learning curve 的走勢"
      ]
    },
    {
      "cell_type": "code",
      "metadata": {
        "id": "oV3VAILUCiQD",
        "colab_type": "code",
        "colab": {
          "base_uri": "https://localhost:8080/",
          "height": 34
        },
        "outputId": "8e9d9dc8-7f90-45d2-8073-d1020421a2c5"
      },
      "source": [
        "import os\n",
        "import keras\n",
        "\n",
        "# 本作業可以不需使用 GPU, 將 GPU 設定為 \"無\" (若有 GPU 且想開啟，可設為 \"0\")\n",
        "os.environ[\"CUDA_VISIBLE_DEVICES\"] = \"\""
      ],
      "execution_count": 1,
      "outputs": [
        {
          "output_type": "stream",
          "text": [
            "Using TensorFlow backend.\n"
          ],
          "name": "stderr"
        }
      ]
    },
    {
      "cell_type": "code",
      "metadata": {
        "id": "9FUTL8clCiQV",
        "colab_type": "code",
        "colab": {
          "base_uri": "https://localhost:8080/",
          "height": 52
        },
        "outputId": "9677ce30-7cb2-4f4c-85d1-0382101ab12a"
      },
      "source": [
        "# 從 Keras 的內建功能中，取得 train 與 test 資料集\n",
        "train, test = keras.datasets.cifar10.load_data()"
      ],
      "execution_count": 2,
      "outputs": [
        {
          "output_type": "stream",
          "text": [
            "Downloading data from https://www.cs.toronto.edu/~kriz/cifar-10-python.tar.gz\n",
            "170500096/170498071 [==============================] - 2s 0us/step\n"
          ],
          "name": "stdout"
        }
      ]
    },
    {
      "cell_type": "code",
      "metadata": {
        "id": "1DvqGx8ZCiQb",
        "colab_type": "code",
        "colab": {}
      },
      "source": [
        "# 將 X 與 Y 獨立放進變數\n",
        "x_train, y_train = train\n",
        "x_test, y_test = test\n",
        "# 資料前處理 - 標準化\n",
        "x_train = x_train / 255.\n",
        "x_test = x_test / 255.\n",
        "\n",
        "# 將資料從圖形 (RGB) 轉為向量 (Single Vector)\n",
        "x_train = x_train.reshape((len(x_train), -1))\n",
        "x_test = x_test.reshape((len(x_test), -1))\n",
        "\n",
        "# 將目標轉為 one-hot encoding\n",
        "y_train = keras.utils.to_categorical(y_train, num_classes=10)\n",
        "y_test = keras.utils.to_categorical(y_test, num_classes=10)"
      ],
      "execution_count": 0,
      "outputs": []
    },
    {
      "cell_type": "code",
      "metadata": {
        "id": "F1HBtq5CCiQg",
        "colab_type": "code",
        "colab": {
          "base_uri": "https://localhost:8080/",
          "height": 158
        },
        "outputId": "33f3cd0b-c399-405d-ce48-a52ed8542871"
      },
      "source": [
        "def build_mlp():\n",
        "    \"\"\"Code Here\n",
        "    建立你的神經網路\n",
        "    \"\"\"\n",
        "    input_layer = keras.layers.Input([x_train.shape[-1]])\n",
        "    x = keras.layers.Dense(units=512, activation=\"relu\")(input_layer)\n",
        "    x = keras.layers.Dense(units=256, activation=\"relu\")(x)\n",
        "    x = keras.layers.Dense(units=128, activation=\"relu\")(x)\n",
        "    out = keras.layers.Dense(units=10, activation=\"softmax\")(x)\n",
        "    \n",
        "    model = keras.models.Model(inputs=[input_layer], outputs=[out])\n",
        "    \n",
        "    return model\n",
        "model = build_mlp()"
      ],
      "execution_count": 4,
      "outputs": [
        {
          "output_type": "stream",
          "text": [
            "WARNING: Logging before flag parsing goes to stderr.\n",
            "W0711 12:38:14.764710 140202457905024 deprecation_wrapper.py:119] From /usr/local/lib/python3.6/dist-packages/keras/backend/tensorflow_backend.py:74: The name tf.get_default_graph is deprecated. Please use tf.compat.v1.get_default_graph instead.\n",
            "\n",
            "W0711 12:38:14.804530 140202457905024 deprecation_wrapper.py:119] From /usr/local/lib/python3.6/dist-packages/keras/backend/tensorflow_backend.py:517: The name tf.placeholder is deprecated. Please use tf.compat.v1.placeholder instead.\n",
            "\n",
            "W0711 12:38:14.814557 140202457905024 deprecation_wrapper.py:119] From /usr/local/lib/python3.6/dist-packages/keras/backend/tensorflow_backend.py:4138: The name tf.random_uniform is deprecated. Please use tf.random.uniform instead.\n",
            "\n"
          ],
          "name": "stderr"
        }
      ]
    },
    {
      "cell_type": "code",
      "metadata": {
        "id": "J49fYZ0XCiQl",
        "colab_type": "code",
        "colab": {
          "base_uri": "https://localhost:8080/",
          "height": 400
        },
        "outputId": "e9e7982d-3142-467b-fc3b-2e571ebded4d"
      },
      "source": [
        "\"\"\"\n",
        "Compile 模型\n",
        "\"\"\"\n",
        "model = build_mlp()\n",
        "# 用 Keras 內建方法檢視模型各層參數量\n",
        "model.summary()\n",
        "\n",
        "optimizer = keras.optimizers.Adam(lr=0.001)\n",
        "model.compile(loss=\"categorical_crossentropy\", metrics=[\"accuracy\"], optimizer=optimizer)"
      ],
      "execution_count": 5,
      "outputs": [
        {
          "output_type": "stream",
          "text": [
            "W0711 12:38:14.960904 140202457905024 deprecation_wrapper.py:119] From /usr/local/lib/python3.6/dist-packages/keras/optimizers.py:790: The name tf.train.Optimizer is deprecated. Please use tf.compat.v1.train.Optimizer instead.\n",
            "\n",
            "W0711 12:38:14.974119 140202457905024 deprecation_wrapper.py:119] From /usr/local/lib/python3.6/dist-packages/keras/backend/tensorflow_backend.py:3295: The name tf.log is deprecated. Please use tf.math.log instead.\n",
            "\n"
          ],
          "name": "stderr"
        },
        {
          "output_type": "stream",
          "text": [
            "_________________________________________________________________\n",
            "Layer (type)                 Output Shape              Param #   \n",
            "=================================================================\n",
            "input_2 (InputLayer)         (None, 3072)              0         \n",
            "_________________________________________________________________\n",
            "dense_5 (Dense)              (None, 512)               1573376   \n",
            "_________________________________________________________________\n",
            "dense_6 (Dense)              (None, 256)               131328    \n",
            "_________________________________________________________________\n",
            "dense_7 (Dense)              (None, 128)               32896     \n",
            "_________________________________________________________________\n",
            "dense_8 (Dense)              (None, 10)                1290      \n",
            "=================================================================\n",
            "Total params: 1,738,890\n",
            "Trainable params: 1,738,890\n",
            "Non-trainable params: 0\n",
            "_________________________________________________________________\n"
          ],
          "name": "stdout"
        }
      ]
    },
    {
      "cell_type": "code",
      "metadata": {
        "scrolled": true,
        "id": "8Weo5SQaCiQr",
        "colab_type": "code",
        "colab": {
          "base_uri": "https://localhost:8080/",
          "height": 849
        },
        "outputId": "33a744f5-8856-4ed4-a81d-a58bf85fa36c"
      },
      "source": [
        "\"\"\"\n",
        "設定要訓練的 Epoch 數\n",
        "\"\"\"\n",
        "\n",
        "model.fit(x_train, y_train, \n",
        "          epochs=20, \n",
        "          batch_size=256, \n",
        "          validation_data=(x_test, y_test), \n",
        "          shuffle=True)"
      ],
      "execution_count": 7,
      "outputs": [
        {
          "output_type": "stream",
          "text": [
            "W0711 12:38:34.386580 140202457905024 deprecation.py:323] From /usr/local/lib/python3.6/dist-packages/tensorflow/python/ops/math_grad.py:1250: add_dispatch_support.<locals>.wrapper (from tensorflow.python.ops.array_ops) is deprecated and will be removed in a future version.\n",
            "Instructions for updating:\n",
            "Use tf.where in 2.0, which has the same broadcast rule as np.where\n",
            "W0711 12:38:34.553874 140202457905024 deprecation_wrapper.py:119] From /usr/local/lib/python3.6/dist-packages/keras/backend/tensorflow_backend.py:986: The name tf.assign_add is deprecated. Please use tf.compat.v1.assign_add instead.\n",
            "\n"
          ],
          "name": "stderr"
        },
        {
          "output_type": "stream",
          "text": [
            "Train on 50000 samples, validate on 10000 samples\n",
            "Epoch 1/20\n",
            "50000/50000 [==============================] - 14s 288us/step - loss: 1.9311 - acc: 0.3018 - val_loss: 1.7578 - val_acc: 0.3729\n",
            "Epoch 2/20\n",
            "50000/50000 [==============================] - 13s 269us/step - loss: 1.7153 - acc: 0.3854 - val_loss: 1.6419 - val_acc: 0.4171\n",
            "Epoch 3/20\n",
            "50000/50000 [==============================] - 13s 266us/step - loss: 1.6278 - acc: 0.4213 - val_loss: 1.5739 - val_acc: 0.4327\n",
            "Epoch 4/20\n",
            "50000/50000 [==============================] - 13s 268us/step - loss: 1.5562 - acc: 0.4454 - val_loss: 1.5502 - val_acc: 0.4458\n",
            "Epoch 5/20\n",
            "50000/50000 [==============================] - 13s 267us/step - loss: 1.5064 - acc: 0.4629 - val_loss: 1.4927 - val_acc: 0.4702\n",
            "Epoch 6/20\n",
            "50000/50000 [==============================] - 14s 270us/step - loss: 1.4758 - acc: 0.4735 - val_loss: 1.4731 - val_acc: 0.4775\n",
            "Epoch 7/20\n",
            "50000/50000 [==============================] - 13s 269us/step - loss: 1.4298 - acc: 0.4905 - val_loss: 1.4621 - val_acc: 0.4797\n",
            "Epoch 8/20\n",
            "50000/50000 [==============================] - 13s 267us/step - loss: 1.4038 - acc: 0.5006 - val_loss: 1.4942 - val_acc: 0.4653\n",
            "Epoch 9/20\n",
            "50000/50000 [==============================] - 13s 266us/step - loss: 1.3771 - acc: 0.5113 - val_loss: 1.4256 - val_acc: 0.4967\n",
            "Epoch 10/20\n",
            "50000/50000 [==============================] - 13s 268us/step - loss: 1.3568 - acc: 0.5161 - val_loss: 1.4001 - val_acc: 0.5047\n",
            "Epoch 11/20\n",
            "50000/50000 [==============================] - 13s 266us/step - loss: 1.3260 - acc: 0.5297 - val_loss: 1.4439 - val_acc: 0.4930\n",
            "Epoch 12/20\n",
            "50000/50000 [==============================] - 13s 270us/step - loss: 1.2957 - acc: 0.5399 - val_loss: 1.3993 - val_acc: 0.5057\n",
            "Epoch 13/20\n",
            "50000/50000 [==============================] - 13s 269us/step - loss: 1.2727 - acc: 0.5468 - val_loss: 1.4186 - val_acc: 0.5043\n",
            "Epoch 14/20\n",
            "50000/50000 [==============================] - 13s 266us/step - loss: 1.2535 - acc: 0.5538 - val_loss: 1.4116 - val_acc: 0.4990\n",
            "Epoch 15/20\n",
            "50000/50000 [==============================] - 13s 266us/step - loss: 1.2268 - acc: 0.5656 - val_loss: 1.3831 - val_acc: 0.5108\n",
            "Epoch 16/20\n",
            "50000/50000 [==============================] - 13s 265us/step - loss: 1.2079 - acc: 0.5694 - val_loss: 1.4200 - val_acc: 0.5002\n",
            "Epoch 17/20\n",
            "50000/50000 [==============================] - 13s 265us/step - loss: 1.1852 - acc: 0.5743 - val_loss: 1.4495 - val_acc: 0.4988\n",
            "Epoch 18/20\n",
            "50000/50000 [==============================] - 13s 266us/step - loss: 1.1633 - acc: 0.5868 - val_loss: 1.3510 - val_acc: 0.5248\n",
            "Epoch 19/20\n",
            "50000/50000 [==============================] - 13s 265us/step - loss: 1.1404 - acc: 0.5960 - val_loss: 1.3621 - val_acc: 0.5209\n",
            "Epoch 20/20\n",
            "50000/50000 [==============================] - 13s 266us/step - loss: 1.1167 - acc: 0.6035 - val_loss: 1.4003 - val_acc: 0.5145\n"
          ],
          "name": "stdout"
        },
        {
          "output_type": "execute_result",
          "data": {
            "text/plain": [
              "<keras.callbacks.History at 0x7f833446df98>"
            ]
          },
          "metadata": {
            "tags": []
          },
          "execution_count": 7
        }
      ]
    },
    {
      "cell_type": "code",
      "metadata": {
        "id": "HQUojOTYCiQ2",
        "colab_type": "code",
        "colab": {
          "base_uri": "https://localhost:8080/",
          "height": 546
        },
        "outputId": "427ef6bd-5147-4f03-d397-0cf398a7c3d7"
      },
      "source": [
        "import matplotlib.pyplot as plt\n",
        "# 以視覺畫方式檢視訓練過程\n",
        "\n",
        "train_loss = model.history.history[\"loss\"]\n",
        "valid_loss = model.history.history[\"val_loss\"]\n",
        "\n",
        "train_acc = model.history.history[\"acc\"]\n",
        "valid_acc = model.history.history[\"val_acc\"]\n",
        "\n",
        "plt.plot(range(len(train_loss)), train_loss, label=\"train loss\")\n",
        "plt.plot(range(len(valid_loss)), valid_loss, label=\"valid loss\")\n",
        "plt.legend()\n",
        "plt.title(\"Loss\")\n",
        "plt.show()\n",
        "\n",
        "plt.plot(range(len(train_acc)), train_acc, label=\"train accuracy\")\n",
        "plt.plot(range(len(valid_acc)), valid_acc, label=\"valid accuracy\")\n",
        "plt.legend()\n",
        "plt.title(\"Accuracy\")\n",
        "plt.show()"
      ],
      "execution_count": 8,
      "outputs": [
        {
          "output_type": "display_data",
          "data": {
            "image/png": "[encoded data removed]",
            "text/plain": [
              "<Figure size 432x288 with 1 Axes>"
            ]
          },
          "metadata": {
            "tags": []
          }
        },
        {
          "output_type": "display_data",
          "data": {
            "image/png": "[encoded data removed]",
            "text/plain": [
              "<Figure size 432x288 with 1 Axes>"
            ]
          },
          "metadata": {
            "tags": []
          }
        }
      ]
    }
  ]
}