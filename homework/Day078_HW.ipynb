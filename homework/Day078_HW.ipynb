{
  "nbformat": 4,
  "nbformat_minor": 0,
  "metadata": {
    "colab": {
      "name": "Day078_HW.ipynb",
      "version": "0.3.2",
      "provenance": [],
      "collapsed_sections": []
    },
    "language_info": {
      "codemirror_mode": {
        "name": "ipython",
        "version": 3
      },
      "file_extension": ".py",
      "mimetype": "text/x-python",
      "name": "python",
      "nbconvert_exporter": "python",
      "pygments_lexer": "ipython3",
      "version": "3.5.6"
    },
    "kernelspec": {
      "display_name": "Python [Anaconda3]",
      "language": "python",
      "name": "Python [Anaconda3]"
    }
  },
  "cells": [
    {
      "cell_type": "markdown",
      "metadata": {
        "id": "7E5UyjAuEd4V",
        "colab_type": "text"
      },
      "source": [
        "## Work\n",
        "1. 請嘗試將 preproc_x 替換成以每筆資料的 min/max 進行標準化至 -1 ~ 1 間，再進行訓練\n",
        "2. 請嘗試將 mlp 疊更深 (e.g 5~10 層)，進行訓練後觀察 learning curve 的走勢\n",
        "3. (optional) 請改用 GPU 進行訓練 (如果你有 GPU 的話)，比較使用 CPU 與 GPU 的訓練速度"
      ]
    },
    {
      "cell_type": "code",
      "metadata": {
        "id": "xZRMZyMlEd4X",
        "colab_type": "code",
        "colab": {},
        "outputId": "747c825c-ddb5-4d80-8ef8-27dc9afe39e8"
      },
      "source": [
        "## \n",
        "\"\"\"\n",
        "Your code here (optional)\n",
        "確認硬體資源\n",
        "\"\"\"\n"
      ],
      "execution_count": 0,
      "outputs": [
        {
          "output_type": "execute_result",
          "data": {
            "text/plain": [
              "'\\nYour code here (optional)\\n確認硬體資源\\n'"
            ]
          },
          "metadata": {
            "tags": []
          },
          "execution_count": 1
        }
      ]
    },
    {
      "cell_type": "code",
      "metadata": {
        "id": "CJhlCAirEd4i",
        "colab_type": "code",
        "colab": {
          "base_uri": "https://localhost:8080/",
          "height": 34
        },
        "outputId": "c4bfa152-6a80-4dbe-a2c5-58ced9215933"
      },
      "source": [
        "import os\n",
        "import keras\n",
        "\n",
        "# 請嘗試設定 GPU：os.environ\n",
        "os.environ[\"CUDA_VISIBLE_DEVICES\"] = \"0\""
      ],
      "execution_count": 1,
      "outputs": [
        {
          "output_type": "stream",
          "text": [
            "Using TensorFlow backend.\n"
          ],
          "name": "stderr"
        }
      ]
    },
    {
      "cell_type": "code",
      "metadata": {
        "id": "BK1hFLpyEd4l",
        "colab_type": "code",
        "colab": {}
      },
      "source": [
        "train, test = keras.datasets.cifar10.load_data()"
      ],
      "execution_count": 0,
      "outputs": []
    },
    {
      "cell_type": "code",
      "metadata": {
        "id": "uRDZrV1nEd4o",
        "colab_type": "code",
        "colab": {}
      },
      "source": [
        "## 資料前處理\n",
        "\"\"\"\n",
        "Your code here\n",
        "\"\"\"\n",
        "def preproc_x(x, flatten=True):\n",
        "    x = x / 255.\n",
        "    if flatten:\n",
        "        x = x.reshape((len(x), -1))\n",
        "    return x\n",
        "\n",
        "def preproc_y(y, num_classes=10):\n",
        "    if y.shape[-1] == 1:\n",
        "        y = keras.utils.to_categorical(y, num_classes)\n",
        "    return y    "
      ],
      "execution_count": 0,
      "outputs": []
    },
    {
      "cell_type": "code",
      "metadata": {
        "id": "hZ-daVQFEd4q",
        "colab_type": "code",
        "colab": {}
      },
      "source": [
        "x_train, y_train = train\n",
        "x_test, y_test = test\n",
        "\n",
        "# Preproc the inputs\n",
        "x_train = preproc_x(x_train)\n",
        "x_test = preproc_x(x_test)\n",
        "\n",
        "# Preprc the outputs\n",
        "y_train = preproc_y(y_train)\n",
        "y_test = preproc_y(y_test)"
      ],
      "execution_count": 0,
      "outputs": []
    },
    {
      "cell_type": "code",
      "metadata": {
        "id": "9oqFj5FCEd4u",
        "colab_type": "code",
        "colab": {}
      },
      "source": [
        "\"\"\"Code Here\n",
        "建立你的神經網路\n",
        "\"\"\"\n",
        "def build_mlp(input_shape, output_units=10, num_neurons=[512, 256, 128]):\n",
        "    input_layer = keras.layers.Input(input_shape)\n",
        "    \n",
        "    for i, n_units in enumerate(num_neurons):\n",
        "        if i == 0:\n",
        "            x = keras.layers.Dense(units=n_units, activation=\"relu\", name=\"hidden_layer\"+str(i+1))(input_layer)\n",
        "        else:\n",
        "            x = keras.layers.Dense(units=n_units, activation=\"relu\", name=\"hidden_layer\"+str(i+1))(x)\n",
        "    \n",
        "    out = keras.layers.Dense(units=output_units, activation=\"softmax\", name=\"output\")(x)\n",
        "    \n",
        "    model = keras.models.Model(inputs=[input_layer], outputs=[out])\n",
        "    return model\n"
      ],
      "execution_count": 0,
      "outputs": []
    },
    {
      "cell_type": "code",
      "metadata": {
        "id": "c_mJgQlrEd4z",
        "colab_type": "code",
        "colab": {
          "base_uri": "https://localhost:8080/",
          "height": 440
        },
        "outputId": "ee52e6ae-7c2b-4442-e0b1-1d0fd3b42b94"
      },
      "source": [
        "model = build_mlp(input_shape=x_train.shape[1:])\n",
        "model.summary()"
      ],
      "execution_count": 6,
      "outputs": [
        {
          "output_type": "stream",
          "text": [
            "WARNING: Logging before flag parsing goes to stderr.\n",
            "W0711 12:46:39.804986 140398519760768 deprecation_wrapper.py:119] From /usr/local/lib/python3.6/dist-packages/keras/backend/tensorflow_backend.py:74: The name tf.get_default_graph is deprecated. Please use tf.compat.v1.get_default_graph instead.\n",
            "\n",
            "W0711 12:46:39.821452 140398519760768 deprecation_wrapper.py:119] From /usr/local/lib/python3.6/dist-packages/keras/backend/tensorflow_backend.py:517: The name tf.placeholder is deprecated. Please use tf.compat.v1.placeholder instead.\n",
            "\n",
            "W0711 12:46:39.824493 140398519760768 deprecation_wrapper.py:119] From /usr/local/lib/python3.6/dist-packages/keras/backend/tensorflow_backend.py:4138: The name tf.random_uniform is deprecated. Please use tf.random.uniform instead.\n",
            "\n"
          ],
          "name": "stderr"
        },
        {
          "output_type": "stream",
          "text": [
            "_________________________________________________________________\n",
            "Layer (type)                 Output Shape              Param #   \n",
            "=================================================================\n",
            "input_1 (InputLayer)         (None, 3072)              0         \n",
            "_________________________________________________________________\n",
            "hidden_layer1 (Dense)        (None, 512)               1573376   \n",
            "_________________________________________________________________\n",
            "hidden_layer2 (Dense)        (None, 256)               131328    \n",
            "_________________________________________________________________\n",
            "hidden_layer3 (Dense)        (None, 128)               32896     \n",
            "_________________________________________________________________\n",
            "output (Dense)               (None, 10)                1290      \n",
            "=================================================================\n",
            "Total params: 1,738,890\n",
            "Trainable params: 1,738,890\n",
            "Non-trainable params: 0\n",
            "_________________________________________________________________\n"
          ],
          "name": "stdout"
        }
      ]
    },
    {
      "cell_type": "code",
      "metadata": {
        "id": "Prpq4BHfEd45",
        "colab_type": "code",
        "colab": {}
      },
      "source": [
        "## 超參數設定\n",
        "LEARNING_RATE = 0.001\n",
        "EPOCHS = 100\n",
        "BATCH_SIZE = 256"
      ],
      "execution_count": 0,
      "outputs": []
    },
    {
      "cell_type": "code",
      "metadata": {
        "id": "pdgadXAAEd5B",
        "colab_type": "code",
        "colab": {
          "base_uri": "https://localhost:8080/",
          "height": 104
        },
        "outputId": "9ad6c0d4-011b-43af-95ad-9dde7958dcdb"
      },
      "source": [
        "optimizer = keras.optimizers.Adam(lr=LEARNING_RATE)\n",
        "model.compile(loss=\"categorical_crossentropy\", metrics=[\"accuracy\"], optimizer=optimizer)"
      ],
      "execution_count": 8,
      "outputs": [
        {
          "output_type": "stream",
          "text": [
            "W0711 12:46:40.146643 140398519760768 deprecation_wrapper.py:119] From /usr/local/lib/python3.6/dist-packages/keras/optimizers.py:790: The name tf.train.Optimizer is deprecated. Please use tf.compat.v1.train.Optimizer instead.\n",
            "\n",
            "W0711 12:46:40.156940 140398519760768 deprecation_wrapper.py:119] From /usr/local/lib/python3.6/dist-packages/keras/backend/tensorflow_backend.py:3295: The name tf.log is deprecated. Please use tf.math.log instead.\n",
            "\n"
          ],
          "name": "stderr"
        }
      ]
    },
    {
      "cell_type": "code",
      "metadata": {
        "id": "VHIx7zz_Ed5G",
        "colab_type": "code",
        "colab": {
          "base_uri": "https://localhost:8080/",
          "height": 1000
        },
        "outputId": "2e61965c-dfef-494c-e991-d13b24b90740"
      },
      "source": [
        "model.fit(x_train, y_train, \n",
        "          epochs=EPOCHS, \n",
        "          batch_size=BATCH_SIZE, \n",
        "          validation_data=(x_test, y_test), \n",
        "          shuffle=True)"
      ],
      "execution_count": 10,
      "outputs": [
        {
          "output_type": "stream",
          "text": [
            "W0711 12:46:47.216984 140398519760768 deprecation.py:323] From /usr/local/lib/python3.6/dist-packages/tensorflow/python/ops/math_grad.py:1250: add_dispatch_support.<locals>.wrapper (from tensorflow.python.ops.array_ops) is deprecated and will be removed in a future version.\n",
            "Instructions for updating:\n",
            "Use tf.where in 2.0, which has the same broadcast rule as np.where\n",
            "W0711 12:46:47.280023 140398519760768 deprecation_wrapper.py:119] From /usr/local/lib/python3.6/dist-packages/keras/backend/tensorflow_backend.py:986: The name tf.assign_add is deprecated. Please use tf.compat.v1.assign_add instead.\n",
            "\n"
          ],
          "name": "stderr"
        },
        {
          "output_type": "stream",
          "text": [
            "Train on 50000 samples, validate on 10000 samples\n",
            "Epoch 1/100\n",
            "50000/50000 [==============================] - 14s 272us/step - loss: 1.9129 - acc: 0.3039 - val_loss: 1.8011 - val_acc: 0.3496\n",
            "Epoch 2/100\n",
            "50000/50000 [==============================] - 13s 266us/step - loss: 1.6943 - acc: 0.3935 - val_loss: 1.6322 - val_acc: 0.4276\n",
            "Epoch 3/100\n",
            "50000/50000 [==============================] - 13s 266us/step - loss: 1.6132 - acc: 0.4246 - val_loss: 1.5726 - val_acc: 0.4414\n",
            "Epoch 4/100\n",
            "50000/50000 [==============================] - 13s 263us/step - loss: 1.5463 - acc: 0.4507 - val_loss: 1.5524 - val_acc: 0.4507\n",
            "Epoch 5/100\n",
            "50000/50000 [==============================] - 13s 264us/step - loss: 1.5040 - acc: 0.4638 - val_loss: 1.5009 - val_acc: 0.4617\n",
            "Epoch 6/100\n",
            "50000/50000 [==============================] - 13s 261us/step - loss: 1.4670 - acc: 0.4781 - val_loss: 1.5006 - val_acc: 0.4713\n",
            "Epoch 7/100\n",
            "50000/50000 [==============================] - 13s 264us/step - loss: 1.4369 - acc: 0.4895 - val_loss: 1.4546 - val_acc: 0.4833\n",
            "Epoch 8/100\n",
            "50000/50000 [==============================] - 13s 262us/step - loss: 1.4036 - acc: 0.5006 - val_loss: 1.4342 - val_acc: 0.4890\n",
            "Epoch 9/100\n",
            "50000/50000 [==============================] - 13s 265us/step - loss: 1.3733 - acc: 0.5108 - val_loss: 1.4526 - val_acc: 0.4815\n",
            "Epoch 10/100\n",
            "50000/50000 [==============================] - 13s 265us/step - loss: 1.3460 - acc: 0.5196 - val_loss: 1.3994 - val_acc: 0.4952\n",
            "Epoch 11/100\n",
            "50000/50000 [==============================] - 13s 264us/step - loss: 1.3221 - acc: 0.5292 - val_loss: 1.3802 - val_acc: 0.5100\n",
            "Epoch 12/100\n",
            "50000/50000 [==============================] - 13s 265us/step - loss: 1.2910 - acc: 0.5398 - val_loss: 1.4092 - val_acc: 0.4968\n",
            "Epoch 13/100\n",
            "50000/50000 [==============================] - 13s 265us/step - loss: 1.2724 - acc: 0.5471 - val_loss: 1.3736 - val_acc: 0.5078\n",
            "Epoch 14/100\n",
            "50000/50000 [==============================] - 13s 264us/step - loss: 1.2596 - acc: 0.5516 - val_loss: 1.4238 - val_acc: 0.4964\n",
            "Epoch 15/100\n",
            "50000/50000 [==============================] - 13s 264us/step - loss: 1.2254 - acc: 0.5652 - val_loss: 1.3713 - val_acc: 0.5196\n",
            "Epoch 16/100\n",
            "50000/50000 [==============================] - 13s 267us/step - loss: 1.2137 - acc: 0.5664 - val_loss: 1.3680 - val_acc: 0.5184\n",
            "Epoch 17/100\n",
            "50000/50000 [==============================] - 13s 267us/step - loss: 1.1852 - acc: 0.5764 - val_loss: 1.3716 - val_acc: 0.5213\n",
            "Epoch 18/100\n",
            "50000/50000 [==============================] - 13s 266us/step - loss: 1.1703 - acc: 0.5830 - val_loss: 1.3693 - val_acc: 0.5202\n",
            "Epoch 19/100\n",
            "50000/50000 [==============================] - 13s 265us/step - loss: 1.1460 - acc: 0.5910 - val_loss: 1.4069 - val_acc: 0.5040\n",
            "Epoch 20/100\n",
            "50000/50000 [==============================] - 13s 265us/step - loss: 1.1269 - acc: 0.5979 - val_loss: 1.3718 - val_acc: 0.5230\n",
            "Epoch 21/100\n",
            "50000/50000 [==============================] - 13s 265us/step - loss: 1.1060 - acc: 0.6046 - val_loss: 1.3839 - val_acc: 0.5203\n",
            "Epoch 22/100\n",
            "50000/50000 [==============================] - 13s 265us/step - loss: 1.0842 - acc: 0.6136 - val_loss: 1.3953 - val_acc: 0.5184\n",
            "Epoch 23/100\n",
            "50000/50000 [==============================] - 13s 265us/step - loss: 1.0613 - acc: 0.6234 - val_loss: 1.4095 - val_acc: 0.5213\n",
            "Epoch 24/100\n",
            "50000/50000 [==============================] - 13s 265us/step - loss: 1.0531 - acc: 0.6224 - val_loss: 1.4141 - val_acc: 0.5165\n",
            "Epoch 25/100\n",
            "50000/50000 [==============================] - 13s 264us/step - loss: 1.0275 - acc: 0.6314 - val_loss: 1.3551 - val_acc: 0.5339\n",
            "Epoch 26/100\n",
            "50000/50000 [==============================] - 13s 265us/step - loss: 1.0044 - acc: 0.6408 - val_loss: 1.3774 - val_acc: 0.5276\n",
            "Epoch 27/100\n",
            "50000/50000 [==============================] - 13s 266us/step - loss: 0.9903 - acc: 0.6476 - val_loss: 1.4326 - val_acc: 0.5170\n",
            "Epoch 28/100\n",
            "50000/50000 [==============================] - 13s 268us/step - loss: 0.9823 - acc: 0.6486 - val_loss: 1.4352 - val_acc: 0.5193\n",
            "Epoch 29/100\n",
            "50000/50000 [==============================] - 13s 265us/step - loss: 0.9648 - acc: 0.6541 - val_loss: 1.3983 - val_acc: 0.5294\n",
            "Epoch 30/100\n",
            "50000/50000 [==============================] - 13s 264us/step - loss: 0.9242 - acc: 0.6705 - val_loss: 1.4034 - val_acc: 0.5322\n",
            "Epoch 31/100\n",
            "50000/50000 [==============================] - 13s 268us/step - loss: 0.9294 - acc: 0.6691 - val_loss: 1.4077 - val_acc: 0.5290\n",
            "Epoch 32/100\n",
            "50000/50000 [==============================] - 13s 269us/step - loss: 0.8993 - acc: 0.6793 - val_loss: 1.5218 - val_acc: 0.5072\n",
            "Epoch 33/100\n",
            "50000/50000 [==============================] - 13s 269us/step - loss: 0.8782 - acc: 0.6852 - val_loss: 1.4816 - val_acc: 0.5254\n",
            "Epoch 34/100\n",
            "50000/50000 [==============================] - 13s 267us/step - loss: 0.8611 - acc: 0.6910 - val_loss: 1.4872 - val_acc: 0.5172\n",
            "Epoch 35/100\n",
            "50000/50000 [==============================] - 13s 269us/step - loss: 0.8494 - acc: 0.6983 - val_loss: 1.5392 - val_acc: 0.5170\n",
            "Epoch 36/100\n",
            "50000/50000 [==============================] - 14s 271us/step - loss: 0.8356 - acc: 0.7004 - val_loss: 1.4702 - val_acc: 0.5247\n",
            "Epoch 37/100\n",
            "50000/50000 [==============================] - 13s 268us/step - loss: 0.8105 - acc: 0.7117 - val_loss: 1.5293 - val_acc: 0.5250\n",
            "Epoch 38/100\n",
            "50000/50000 [==============================] - 13s 269us/step - loss: 0.8090 - acc: 0.7109 - val_loss: 1.5402 - val_acc: 0.5251\n",
            "Epoch 39/100\n",
            "50000/50000 [==============================] - 14s 270us/step - loss: 0.7809 - acc: 0.7204 - val_loss: 1.5911 - val_acc: 0.5186\n",
            "Epoch 40/100\n",
            "50000/50000 [==============================] - 13s 270us/step - loss: 0.7668 - acc: 0.7270 - val_loss: 1.5770 - val_acc: 0.5234\n",
            "Epoch 41/100\n",
            "50000/50000 [==============================] - 13s 269us/step - loss: 0.7614 - acc: 0.7274 - val_loss: 1.5751 - val_acc: 0.5261\n",
            "Epoch 42/100\n",
            "50000/50000 [==============================] - 13s 270us/step - loss: 0.7409 - acc: 0.7330 - val_loss: 1.6171 - val_acc: 0.5264\n",
            "Epoch 43/100\n",
            "50000/50000 [==============================] - 13s 269us/step - loss: 0.7249 - acc: 0.7411 - val_loss: 1.6308 - val_acc: 0.5197\n",
            "Epoch 44/100\n",
            "50000/50000 [==============================] - 13s 267us/step - loss: 0.7161 - acc: 0.7432 - val_loss: 1.6161 - val_acc: 0.5218\n",
            "Epoch 45/100\n",
            "50000/50000 [==============================] - 13s 264us/step - loss: 0.6956 - acc: 0.7536 - val_loss: 1.7025 - val_acc: 0.5160\n",
            "Epoch 46/100\n",
            "50000/50000 [==============================] - 13s 265us/step - loss: 0.6908 - acc: 0.7518 - val_loss: 1.6407 - val_acc: 0.5151\n",
            "Epoch 47/100\n",
            "50000/50000 [==============================] - 13s 264us/step - loss: 0.6729 - acc: 0.7602 - val_loss: 1.6940 - val_acc: 0.5192\n",
            "Epoch 48/100\n",
            "50000/50000 [==============================] - 13s 264us/step - loss: 0.6562 - acc: 0.7644 - val_loss: 1.7462 - val_acc: 0.5118\n",
            "Epoch 49/100\n",
            "50000/50000 [==============================] - 13s 265us/step - loss: 0.6435 - acc: 0.7695 - val_loss: 1.8117 - val_acc: 0.5104\n",
            "Epoch 50/100\n",
            "50000/50000 [==============================] - 13s 265us/step - loss: 0.6349 - acc: 0.7712 - val_loss: 1.8154 - val_acc: 0.5115\n",
            "Epoch 51/100\n",
            "50000/50000 [==============================] - 13s 265us/step - loss: 0.6184 - acc: 0.7779 - val_loss: 1.7924 - val_acc: 0.5178\n",
            "Epoch 52/100\n",
            "50000/50000 [==============================] - 13s 265us/step - loss: 0.6103 - acc: 0.7833 - val_loss: 1.8318 - val_acc: 0.5137\n",
            "Epoch 53/100\n",
            "50000/50000 [==============================] - 13s 264us/step - loss: 0.5980 - acc: 0.7862 - val_loss: 1.8546 - val_acc: 0.5178\n",
            "Epoch 54/100\n",
            "50000/50000 [==============================] - 13s 264us/step - loss: 0.5849 - acc: 0.7909 - val_loss: 1.8824 - val_acc: 0.5086\n",
            "Epoch 55/100\n",
            "50000/50000 [==============================] - 13s 265us/step - loss: 0.5726 - acc: 0.7964 - val_loss: 1.9493 - val_acc: 0.5098\n",
            "Epoch 56/100\n",
            "50000/50000 [==============================] - 13s 265us/step - loss: 0.5579 - acc: 0.7996 - val_loss: 1.9236 - val_acc: 0.5070\n",
            "Epoch 57/100\n",
            "50000/50000 [==============================] - 13s 265us/step - loss: 0.5558 - acc: 0.8023 - val_loss: 1.9653 - val_acc: 0.5049\n",
            "Epoch 58/100\n",
            "50000/50000 [==============================] - 13s 263us/step - loss: 0.5330 - acc: 0.8110 - val_loss: 2.0089 - val_acc: 0.5095\n",
            "Epoch 59/100\n",
            "50000/50000 [==============================] - 13s 263us/step - loss: 0.5341 - acc: 0.8087 - val_loss: 2.0852 - val_acc: 0.5109\n",
            "Epoch 60/100\n",
            "50000/50000 [==============================] - 13s 270us/step - loss: 0.5325 - acc: 0.8106 - val_loss: 2.0938 - val_acc: 0.5140\n",
            "Epoch 61/100\n",
            "50000/50000 [==============================] - 13s 267us/step - loss: 0.4984 - acc: 0.8220 - val_loss: 2.0701 - val_acc: 0.5112\n",
            "Epoch 62/100\n",
            "50000/50000 [==============================] - 13s 268us/step - loss: 0.5066 - acc: 0.8185 - val_loss: 2.1151 - val_acc: 0.5027\n",
            "Epoch 63/100\n",
            "50000/50000 [==============================] - 13s 267us/step - loss: 0.4932 - acc: 0.8242 - val_loss: 2.0758 - val_acc: 0.5088\n",
            "Epoch 64/100\n",
            "50000/50000 [==============================] - 13s 262us/step - loss: 0.4916 - acc: 0.8235 - val_loss: 2.1574 - val_acc: 0.5099\n",
            "Epoch 65/100\n",
            "50000/50000 [==============================] - 13s 263us/step - loss: 0.4772 - acc: 0.8278 - val_loss: 2.1618 - val_acc: 0.5045\n",
            "Epoch 66/100\n",
            "50000/50000 [==============================] - 13s 266us/step - loss: 0.4633 - acc: 0.8353 - val_loss: 2.2151 - val_acc: 0.5028\n",
            "Epoch 67/100\n",
            "50000/50000 [==============================] - 13s 267us/step - loss: 0.4589 - acc: 0.8357 - val_loss: 2.3015 - val_acc: 0.5031\n",
            "Epoch 68/100\n",
            "50000/50000 [==============================] - 13s 265us/step - loss: 0.4358 - acc: 0.8458 - val_loss: 2.3382 - val_acc: 0.5035\n",
            "Epoch 69/100\n",
            "50000/50000 [==============================] - 13s 263us/step - loss: 0.4515 - acc: 0.8364 - val_loss: 2.3365 - val_acc: 0.5068\n",
            "Epoch 70/100\n",
            "50000/50000 [==============================] - 13s 268us/step - loss: 0.4469 - acc: 0.8390 - val_loss: 2.2810 - val_acc: 0.5068\n",
            "Epoch 71/100\n",
            "50000/50000 [==============================] - 13s 266us/step - loss: 0.4198 - acc: 0.8506 - val_loss: 2.3564 - val_acc: 0.5092\n",
            "Epoch 72/100\n",
            "50000/50000 [==============================] - 13s 265us/step - loss: 0.4188 - acc: 0.8504 - val_loss: 2.3515 - val_acc: 0.5069\n",
            "Epoch 73/100\n",
            "50000/50000 [==============================] - 13s 265us/step - loss: 0.4119 - acc: 0.8517 - val_loss: 2.3958 - val_acc: 0.5043\n",
            "Epoch 74/100\n",
            "50000/50000 [==============================] - 13s 266us/step - loss: 0.4123 - acc: 0.8518 - val_loss: 2.4229 - val_acc: 0.5109\n",
            "Epoch 75/100\n",
            "50000/50000 [==============================] - 13s 266us/step - loss: 0.3976 - acc: 0.8581 - val_loss: 2.5373 - val_acc: 0.5069\n",
            "Epoch 76/100\n",
            "50000/50000 [==============================] - 13s 267us/step - loss: 0.3923 - acc: 0.8586 - val_loss: 2.4787 - val_acc: 0.5060\n",
            "Epoch 77/100\n",
            "50000/50000 [==============================] - 13s 270us/step - loss: 0.3972 - acc: 0.8577 - val_loss: 2.5013 - val_acc: 0.4988\n",
            "Epoch 78/100\n",
            "50000/50000 [==============================] - 13s 269us/step - loss: 0.3875 - acc: 0.8607 - val_loss: 2.5082 - val_acc: 0.5086\n",
            "Epoch 79/100\n",
            "50000/50000 [==============================] - 13s 269us/step - loss: 0.3815 - acc: 0.8636 - val_loss: 2.5441 - val_acc: 0.5014\n",
            "Epoch 80/100\n",
            "50000/50000 [==============================] - 13s 270us/step - loss: 0.3612 - acc: 0.8704 - val_loss: 2.6284 - val_acc: 0.5009\n",
            "Epoch 81/100\n",
            "50000/50000 [==============================] - 13s 267us/step - loss: 0.3723 - acc: 0.8681 - val_loss: 2.5951 - val_acc: 0.4997\n",
            "Epoch 82/100\n",
            "50000/50000 [==============================] - 13s 265us/step - loss: 0.3700 - acc: 0.8665 - val_loss: 2.6398 - val_acc: 0.4965\n",
            "Epoch 83/100\n",
            "50000/50000 [==============================] - 13s 264us/step - loss: 0.3552 - acc: 0.8723 - val_loss: 2.7022 - val_acc: 0.4991\n",
            "Epoch 84/100\n",
            "50000/50000 [==============================] - 13s 270us/step - loss: 0.3474 - acc: 0.8765 - val_loss: 2.6741 - val_acc: 0.4956\n",
            "Epoch 85/100\n",
            "50000/50000 [==============================] - 13s 269us/step - loss: 0.3339 - acc: 0.8803 - val_loss: 2.6950 - val_acc: 0.4959\n",
            "Epoch 86/100\n",
            "50000/50000 [==============================] - 14s 271us/step - loss: 0.3494 - acc: 0.8750 - val_loss: 2.7148 - val_acc: 0.4980\n",
            "Epoch 87/100\n",
            "50000/50000 [==============================] - 13s 270us/step - loss: 0.3192 - acc: 0.8850 - val_loss: 2.8527 - val_acc: 0.4992\n",
            "Epoch 88/100\n",
            "50000/50000 [==============================] - 13s 265us/step - loss: 0.3329 - acc: 0.8806 - val_loss: 2.8153 - val_acc: 0.4976\n",
            "Epoch 89/100\n",
            "50000/50000 [==============================] - 14s 271us/step - loss: 0.3463 - acc: 0.8761 - val_loss: 2.8131 - val_acc: 0.4921\n",
            "Epoch 90/100\n",
            "50000/50000 [==============================] - 13s 268us/step - loss: 0.3200 - acc: 0.8850 - val_loss: 2.9125 - val_acc: 0.4944\n",
            "Epoch 91/100\n",
            "50000/50000 [==============================] - 13s 267us/step - loss: 0.3436 - acc: 0.8755 - val_loss: 2.8726 - val_acc: 0.5001\n",
            "Epoch 92/100\n",
            "50000/50000 [==============================] - 13s 266us/step - loss: 0.3015 - acc: 0.8931 - val_loss: 2.8932 - val_acc: 0.5010\n",
            "Epoch 93/100\n",
            "50000/50000 [==============================] - 14s 270us/step - loss: 0.2933 - acc: 0.8942 - val_loss: 2.9485 - val_acc: 0.4996\n",
            "Epoch 94/100\n",
            "50000/50000 [==============================] - 13s 269us/step - loss: 0.2955 - acc: 0.8933 - val_loss: 3.0215 - val_acc: 0.4924\n",
            "Epoch 95/100\n",
            "50000/50000 [==============================] - 14s 271us/step - loss: 0.3179 - acc: 0.8854 - val_loss: 3.0095 - val_acc: 0.4943\n",
            "Epoch 96/100\n",
            "50000/50000 [==============================] - 13s 268us/step - loss: 0.3056 - acc: 0.8888 - val_loss: 3.0136 - val_acc: 0.4880\n",
            "Epoch 97/100\n",
            "50000/50000 [==============================] - 13s 269us/step - loss: 0.2941 - acc: 0.8939 - val_loss: 3.0526 - val_acc: 0.5021\n",
            "Epoch 98/100\n",
            "50000/50000 [==============================] - 13s 269us/step - loss: 0.2793 - acc: 0.8993 - val_loss: 3.0330 - val_acc: 0.4992\n",
            "Epoch 99/100\n",
            "50000/50000 [==============================] - 13s 269us/step - loss: 0.3033 - acc: 0.8909 - val_loss: 3.1163 - val_acc: 0.4961\n",
            "Epoch 100/100\n",
            "50000/50000 [==============================] - 13s 269us/step - loss: 0.2950 - acc: 0.8919 - val_loss: 3.2142 - val_acc: 0.4908\n"
          ],
          "name": "stdout"
        },
        {
          "output_type": "execute_result",
          "data": {
            "text/plain": [
              "<keras.callbacks.History at 0x7fb0daf78c88>"
            ]
          },
          "metadata": {
            "tags": []
          },
          "execution_count": 10
        }
      ]
    },
    {
      "cell_type": "code",
      "metadata": {
        "id": "DoONHtacEd5K",
        "colab_type": "code",
        "colab": {
          "base_uri": "https://localhost:8080/",
          "height": 545
        },
        "outputId": "ea5b6b9b-8ec4-4ee2-9d87-2dce9641dbf3"
      },
      "source": [
        "import matplotlib.pyplot as plt\n",
        "\n",
        "\n",
        "train_loss = model.history.history[\"loss\"]\n",
        "valid_loss = model.history.history[\"val_loss\"]\n",
        "\n",
        "train_acc = model.history.history[\"acc\"]\n",
        "valid_acc = model.history.history[\"val_acc\"]\n",
        "\n",
        "plt.plot(range(len(train_loss)), train_loss, label=\"train loss\")\n",
        "plt.plot(range(len(valid_loss)), valid_loss, label=\"valid loss\")\n",
        "plt.legend()\n",
        "plt.title(\"Loss\")\n",
        "plt.show()\n",
        "\n",
        "plt.plot(range(len(train_acc)), train_acc, label=\"train accuracy\")\n",
        "plt.plot(range(len(valid_acc)), valid_acc, label=\"valid accuracy\")\n",
        "plt.legend()\n",
        "plt.title(\"Accuracy\")\n",
        "plt.show()"
      ],
      "execution_count": 11,
      "outputs": [
        {
          "output_type": "display_data",
          "data": {
            "image/png": "[encoded data removed]",
            "text/plain": [
              "<Figure size 432x288 with 1 Axes>"
            ]
          },
          "metadata": {
            "tags": []
          }
        },
        {
          "output_type": "display_data",
          "data": {
            "image/png": "[encoded data removed]",
            "text/plain": [
              "<Figure size 432x288 with 1 Axes>"
            ]
          },
          "metadata": {
            "tags": []
          }
        }
      ]
    }
  ]
}