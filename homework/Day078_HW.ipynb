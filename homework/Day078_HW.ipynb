{
  "nbformat": 4,
  "nbformat_minor": 0,
  "metadata": {
    "colab": {
      "name": "Day078_HW.ipynb",
      "version": "0.3.2",
      "provenance": [],
      "collapsed_sections": []
    },
    "language_info": {
      "codemirror_mode": {
        "name": "ipython",
        "version": 3
      },
      "file_extension": ".py",
      "mimetype": "text/x-python",
      "name": "python",
      "nbconvert_exporter": "python",
      "pygments_lexer": "ipython3",
      "version": "3.5.6"
    },
    "kernelspec": {
      "display_name": "Python [Anaconda3]",
      "language": "python",
      "name": "Python [Anaconda3]"
    }
  },
  "cells": [
    {
      "cell_type": "markdown",
      "metadata": {
        "id": "7E5UyjAuEd4V",
        "colab_type": "text"
      },
      "source": [
        "## Work\n",
        "1. 請嘗試將 preproc_x 替換成以每筆資料的 min/max 進行標準化至 -1 ~ 1 間，再進行訓練\n",
        "2. 請嘗試將 mlp 疊更深 (e.g 5~10 層)，進行訓練後觀察 learning curve 的走勢\n",
        "3. (optional) 請改用 GPU 進行訓練 (如果你有 GPU 的話)，比較使用 CPU 與 GPU 的訓練速度"
      ]
    },
    {
      "cell_type": "code",
      "metadata": {
        "id": "xZRMZyMlEd4X",
        "colab_type": "code",
        "outputId": "747c825c-ddb5-4d80-8ef8-27dc9afe39e8",
        "colab": {}
      },
      "source": [
        "## \n",
        "\"\"\"\n",
        "Your code here (optional)\n",
        "確認硬體資源\n",
        "\"\"\"\n"
      ],
      "execution_count": 0,
      "outputs": [
        {
          "output_type": "execute_result",
          "data": {
            "text/plain": [
              "'\\nYour code here (optional)\\n確認硬體資源\\n'"
            ]
          },
          "metadata": {
            "tags": []
          },
          "execution_count": 1
        }
      ]
    },
    {
      "cell_type": "code",
      "metadata": {
        "id": "CJhlCAirEd4i",
        "colab_type": "code",
        "outputId": "1491ad82-ade0-489c-e76e-05bfa4de6e32",
        "colab": {
          "base_uri": "https://localhost:8080/",
          "height": 34
        }
      },
      "source": [
        "import os\n",
        "import keras\n",
        "\n",
        "# 請嘗試設定 GPU：os.environ\n",
        "os.environ[\"CUDA_VISIBLE_DEVICES\"] = \"0\""
      ],
      "execution_count": 1,
      "outputs": [
        {
          "output_type": "stream",
          "text": [
            "Using TensorFlow backend.\n"
          ],
          "name": "stderr"
        }
      ]
    },
    {
      "cell_type": "code",
      "metadata": {
        "id": "BK1hFLpyEd4l",
        "colab_type": "code",
        "colab": {}
      },
      "source": [
        "train, test = keras.datasets.cifar10.load_data()"
      ],
      "execution_count": 0,
      "outputs": []
    },
    {
      "cell_type": "code",
      "metadata": {
        "id": "uRDZrV1nEd4o",
        "colab_type": "code",
        "colab": {}
      },
      "source": [
        "## 資料前處理\n",
        "\"\"\"\n",
        "Your code here\n",
        "\"\"\"\n",
        "def preproc_x(x, flatten=True):\n",
        "    x = x / 255.\n",
        "    if flatten:\n",
        "        x = x.reshape((len(x), -1))\n",
        "    return x\n",
        "\n",
        "def preproc_y(y, num_classes=10):\n",
        "    if y.shape[-1] == 1:\n",
        "        y = keras.utils.to_categorical(y, num_classes)\n",
        "    return y    "
      ],
      "execution_count": 0,
      "outputs": []
    },
    {
      "cell_type": "code",
      "metadata": {
        "id": "hZ-daVQFEd4q",
        "colab_type": "code",
        "colab": {}
      },
      "source": [
        "x_train, y_train = train\n",
        "x_test, y_test = test\n",
        "\n",
        "# Preproc the inputs\n",
        "x_train = preproc_x(x_train)\n",
        "x_test = preproc_x(x_test)\n",
        "\n",
        "# Preprc the outputs\n",
        "y_train = preproc_y(y_train)\n",
        "y_test = preproc_y(y_test)"
      ],
      "execution_count": 0,
      "outputs": []
    },
    {
      "cell_type": "code",
      "metadata": {
        "id": "XLMHPslNMtx5",
        "colab_type": "code",
        "colab": {
          "base_uri": "https://localhost:8080/",
          "height": 235
        },
        "outputId": "54e49c51-1020-4362-c93f-fb9f333d02b8"
      },
      "source": [
        "x_train"
      ],
      "execution_count": 9,
      "outputs": [
        {
          "output_type": "execute_result",
          "data": {
            "text/plain": [
              "array([[0.23137255, 0.24313725, 0.24705882, ..., 0.48235294, 0.36078431,\n",
              "        0.28235294],\n",
              "       [0.60392157, 0.69411765, 0.73333333, ..., 0.56078431, 0.52156863,\n",
              "        0.56470588],\n",
              "       [1.        , 1.        , 1.        , ..., 0.31372549, 0.3372549 ,\n",
              "        0.32941176],\n",
              "       ...,\n",
              "       [0.1372549 , 0.69803922, 0.92156863, ..., 0.04705882, 0.12156863,\n",
              "        0.19607843],\n",
              "       [0.74117647, 0.82745098, 0.94117647, ..., 0.76470588, 0.74509804,\n",
              "        0.67058824],\n",
              "       [0.89803922, 0.89803922, 0.9372549 , ..., 0.63921569, 0.63921569,\n",
              "        0.63137255]])"
            ]
          },
          "metadata": {
            "tags": []
          },
          "execution_count": 9
        }
      ]
    },
    {
      "cell_type": "code",
      "metadata": {
        "id": "9oqFj5FCEd4u",
        "colab_type": "code",
        "colab": {}
      },
      "source": [
        "\"\"\"Code Here\n",
        "建立你的神經網路\n",
        "\"\"\"\n",
        "def build_mlp(input_shape, output_units=10, num_neurons=[512, 256, 128, 64, 32]):\n",
        "    input_layer = keras.layers.Input(input_shape)\n",
        "    \n",
        "    for i, n_units in enumerate(num_neurons):\n",
        "        if i == 0:\n",
        "            x = keras.layers.Dense(units=n_units, activation=\"relu\", name=\"hidden_layer\"+str(i+1))(input_layer)\n",
        "        else:\n",
        "            x = keras.layers.Dense(units=n_units, activation=\"relu\", name=\"hidden_layer\"+str(i+1))(x)\n",
        "    \n",
        "    out = keras.layers.Dense(units=output_units, activation=\"softmax\", name=\"output\")(x)\n",
        "    \n",
        "    model = keras.models.Model(inputs=[input_layer], outputs=[out])\n",
        "    return model\n"
      ],
      "execution_count": 0,
      "outputs": []
    },
    {
      "cell_type": "code",
      "metadata": {
        "id": "c_mJgQlrEd4z",
        "colab_type": "code",
        "outputId": "6cf5152d-db66-405b-cee6-b01803014739",
        "colab": {
          "base_uri": "https://localhost:8080/",
          "height": 507
        }
      },
      "source": [
        "model = build_mlp(input_shape=x_train.shape[1:])\n",
        "model.summary()"
      ],
      "execution_count": 11,
      "outputs": [
        {
          "output_type": "stream",
          "text": [
            "WARNING: Logging before flag parsing goes to stderr.\n",
            "W0711 13:35:41.519082 140576441862016 deprecation_wrapper.py:119] From /usr/local/lib/python3.6/dist-packages/keras/backend/tensorflow_backend.py:74: The name tf.get_default_graph is deprecated. Please use tf.compat.v1.get_default_graph instead.\n",
            "\n",
            "W0711 13:35:41.557471 140576441862016 deprecation_wrapper.py:119] From /usr/local/lib/python3.6/dist-packages/keras/backend/tensorflow_backend.py:517: The name tf.placeholder is deprecated. Please use tf.compat.v1.placeholder instead.\n",
            "\n",
            "W0711 13:35:41.573766 140576441862016 deprecation_wrapper.py:119] From /usr/local/lib/python3.6/dist-packages/keras/backend/tensorflow_backend.py:4138: The name tf.random_uniform is deprecated. Please use tf.random.uniform instead.\n",
            "\n"
          ],
          "name": "stderr"
        },
        {
          "output_type": "stream",
          "text": [
            "_________________________________________________________________\n",
            "Layer (type)                 Output Shape              Param #   \n",
            "=================================================================\n",
            "input_1 (InputLayer)         (None, 3072)              0         \n",
            "_________________________________________________________________\n",
            "hidden_layer1 (Dense)        (None, 512)               1573376   \n",
            "_________________________________________________________________\n",
            "hidden_layer2 (Dense)        (None, 256)               131328    \n",
            "_________________________________________________________________\n",
            "hidden_layer3 (Dense)        (None, 128)               32896     \n",
            "_________________________________________________________________\n",
            "hidden_layer4 (Dense)        (None, 64)                8256      \n",
            "_________________________________________________________________\n",
            "hidden_layer5 (Dense)        (None, 32)                2080      \n",
            "_________________________________________________________________\n",
            "output (Dense)               (None, 10)                330       \n",
            "=================================================================\n",
            "Total params: 1,748,266\n",
            "Trainable params: 1,748,266\n",
            "Non-trainable params: 0\n",
            "_________________________________________________________________\n"
          ],
          "name": "stdout"
        }
      ]
    },
    {
      "cell_type": "code",
      "metadata": {
        "id": "Prpq4BHfEd45",
        "colab_type": "code",
        "colab": {}
      },
      "source": [
        "## 超參數設定\n",
        "LEARNING_RATE = 0.001\n",
        "EPOCHS = 100\n",
        "BATCH_SIZE = 256"
      ],
      "execution_count": 0,
      "outputs": []
    },
    {
      "cell_type": "code",
      "metadata": {
        "id": "pdgadXAAEd5B",
        "colab_type": "code",
        "outputId": "aca6e0ca-3c94-4ff1-9481-8d1e554f9788",
        "colab": {
          "base_uri": "https://localhost:8080/",
          "height": 104
        }
      },
      "source": [
        "optimizer = keras.optimizers.Adam(lr=LEARNING_RATE)\n",
        "model.compile(loss=\"categorical_crossentropy\", metrics=[\"accuracy\"], optimizer=optimizer)"
      ],
      "execution_count": 13,
      "outputs": [
        {
          "output_type": "stream",
          "text": [
            "W0711 13:35:55.500434 140576441862016 deprecation_wrapper.py:119] From /usr/local/lib/python3.6/dist-packages/keras/optimizers.py:790: The name tf.train.Optimizer is deprecated. Please use tf.compat.v1.train.Optimizer instead.\n",
            "\n",
            "W0711 13:35:55.523824 140576441862016 deprecation_wrapper.py:119] From /usr/local/lib/python3.6/dist-packages/keras/backend/tensorflow_backend.py:3295: The name tf.log is deprecated. Please use tf.math.log instead.\n",
            "\n"
          ],
          "name": "stderr"
        }
      ]
    },
    {
      "cell_type": "code",
      "metadata": {
        "id": "VHIx7zz_Ed5G",
        "colab_type": "code",
        "outputId": "83eeec0f-2149-491f-9802-eb9d6cf7368e",
        "colab": {
          "base_uri": "https://localhost:8080/",
          "height": 1000
        }
      },
      "source": [
        "model.fit(x_train, y_train, \n",
        "          epochs=EPOCHS, \n",
        "          batch_size=BATCH_SIZE, \n",
        "          validation_data=(x_test, y_test), \n",
        "          shuffle=True)"
      ],
      "execution_count": 14,
      "outputs": [
        {
          "output_type": "stream",
          "text": [
            "W0711 13:35:56.676449 140576441862016 deprecation.py:323] From /usr/local/lib/python3.6/dist-packages/tensorflow/python/ops/math_grad.py:1250: add_dispatch_support.<locals>.wrapper (from tensorflow.python.ops.array_ops) is deprecated and will be removed in a future version.\n",
            "Instructions for updating:\n",
            "Use tf.where in 2.0, which has the same broadcast rule as np.where\n",
            "W0711 13:35:56.822775 140576441862016 deprecation_wrapper.py:119] From /usr/local/lib/python3.6/dist-packages/keras/backend/tensorflow_backend.py:986: The name tf.assign_add is deprecated. Please use tf.compat.v1.assign_add instead.\n",
            "\n"
          ],
          "name": "stderr"
        },
        {
          "output_type": "stream",
          "text": [
            "Train on 50000 samples, validate on 10000 samples\n",
            "Epoch 1/100\n",
            "50000/50000 [==============================] - 27s 543us/step - loss: 2.0153 - acc: 0.2492 - val_loss: 1.8537 - val_acc: 0.3269\n",
            "Epoch 2/100\n",
            "50000/50000 [==============================] - 26s 513us/step - loss: 1.7894 - acc: 0.3535 - val_loss: 1.7039 - val_acc: 0.3876\n",
            "Epoch 3/100\n",
            "50000/50000 [==============================] - 26s 522us/step - loss: 1.6729 - acc: 0.4006 - val_loss: 1.6689 - val_acc: 0.4065\n",
            "Epoch 4/100\n",
            "50000/50000 [==============================] - 26s 517us/step - loss: 1.6044 - acc: 0.4260 - val_loss: 1.6107 - val_acc: 0.4160\n",
            "Epoch 5/100\n",
            "50000/50000 [==============================] - 26s 523us/step - loss: 1.5505 - acc: 0.4443 - val_loss: 1.5458 - val_acc: 0.4504\n",
            "Epoch 6/100\n",
            "50000/50000 [==============================] - 26s 513us/step - loss: 1.5081 - acc: 0.4600 - val_loss: 1.5523 - val_acc: 0.4487\n",
            "Epoch 7/100\n",
            "50000/50000 [==============================] - 26s 527us/step - loss: 1.4657 - acc: 0.4757 - val_loss: 1.4999 - val_acc: 0.4651\n",
            "Epoch 8/100\n",
            "50000/50000 [==============================] - 27s 533us/step - loss: 1.4383 - acc: 0.4856 - val_loss: 1.4495 - val_acc: 0.4867\n",
            "Epoch 9/100\n",
            "50000/50000 [==============================] - 26s 519us/step - loss: 1.4064 - acc: 0.4984 - val_loss: 1.4465 - val_acc: 0.4841\n",
            "Epoch 10/100\n",
            "50000/50000 [==============================] - 26s 523us/step - loss: 1.3871 - acc: 0.5039 - val_loss: 1.4264 - val_acc: 0.5023\n",
            "Epoch 11/100\n",
            "50000/50000 [==============================] - 26s 521us/step - loss: 1.3585 - acc: 0.5163 - val_loss: 1.4825 - val_acc: 0.4762\n",
            "Epoch 12/100\n",
            "50000/50000 [==============================] - 26s 520us/step - loss: 1.3280 - acc: 0.5270 - val_loss: 1.4224 - val_acc: 0.4933\n",
            "Epoch 13/100\n",
            "50000/50000 [==============================] - 26s 521us/step - loss: 1.3004 - acc: 0.5359 - val_loss: 1.4218 - val_acc: 0.4971\n",
            "Epoch 14/100\n",
            "50000/50000 [==============================] - 26s 522us/step - loss: 1.2876 - acc: 0.5406 - val_loss: 1.3821 - val_acc: 0.5085\n",
            "Epoch 15/100\n",
            "50000/50000 [==============================] - 26s 526us/step - loss: 1.2565 - acc: 0.5536 - val_loss: 1.3900 - val_acc: 0.5036\n",
            "Epoch 16/100\n",
            "50000/50000 [==============================] - 26s 519us/step - loss: 1.2296 - acc: 0.5618 - val_loss: 1.3886 - val_acc: 0.5067\n",
            "Epoch 17/100\n",
            "50000/50000 [==============================] - 26s 510us/step - loss: 1.2225 - acc: 0.5645 - val_loss: 1.4271 - val_acc: 0.4961\n",
            "Epoch 18/100\n",
            "50000/50000 [==============================] - 25s 503us/step - loss: 1.1906 - acc: 0.5741 - val_loss: 1.3641 - val_acc: 0.5227\n",
            "Epoch 19/100\n",
            "50000/50000 [==============================] - 26s 511us/step - loss: 1.1686 - acc: 0.5833 - val_loss: 1.3876 - val_acc: 0.5179\n",
            "Epoch 20/100\n",
            "50000/50000 [==============================] - 25s 503us/step - loss: 1.1541 - acc: 0.5884 - val_loss: 1.3591 - val_acc: 0.5217\n",
            "Epoch 21/100\n",
            "50000/50000 [==============================] - 26s 513us/step - loss: 1.1266 - acc: 0.5980 - val_loss: 1.3594 - val_acc: 0.5251\n",
            "Epoch 22/100\n",
            "50000/50000 [==============================] - 26s 513us/step - loss: 1.1210 - acc: 0.5981 - val_loss: 1.4090 - val_acc: 0.5180\n",
            "Epoch 23/100\n",
            "50000/50000 [==============================] - 26s 511us/step - loss: 1.0931 - acc: 0.6104 - val_loss: 1.3684 - val_acc: 0.5292\n",
            "Epoch 24/100\n",
            "50000/50000 [==============================] - 26s 510us/step - loss: 1.0678 - acc: 0.6175 - val_loss: 1.3827 - val_acc: 0.5288\n",
            "Epoch 25/100\n",
            "50000/50000 [==============================] - 26s 517us/step - loss: 1.0456 - acc: 0.6267 - val_loss: 1.4085 - val_acc: 0.5116\n",
            "Epoch 26/100\n",
            "50000/50000 [==============================] - 26s 526us/step - loss: 1.0426 - acc: 0.6288 - val_loss: 1.3696 - val_acc: 0.5285\n",
            "Epoch 27/100\n",
            "50000/50000 [==============================] - 26s 528us/step - loss: 1.0118 - acc: 0.6379 - val_loss: 1.3878 - val_acc: 0.5260\n",
            "Epoch 28/100\n",
            "50000/50000 [==============================] - 26s 523us/step - loss: 0.9877 - acc: 0.6459 - val_loss: 1.4548 - val_acc: 0.5216\n",
            "Epoch 29/100\n",
            "50000/50000 [==============================] - 26s 521us/step - loss: 0.9776 - acc: 0.6497 - val_loss: 1.4326 - val_acc: 0.5286\n",
            "Epoch 30/100\n",
            "50000/50000 [==============================] - 26s 517us/step - loss: 0.9524 - acc: 0.6581 - val_loss: 1.4339 - val_acc: 0.5263\n",
            "Epoch 31/100\n",
            "50000/50000 [==============================] - 26s 515us/step - loss: 0.9401 - acc: 0.6634 - val_loss: 1.4355 - val_acc: 0.5170\n",
            "Epoch 32/100\n",
            "50000/50000 [==============================] - 26s 518us/step - loss: 0.9333 - acc: 0.6667 - val_loss: 1.4448 - val_acc: 0.5236\n",
            "Epoch 33/100\n",
            "50000/50000 [==============================] - 26s 517us/step - loss: 0.8944 - acc: 0.6792 - val_loss: 1.5064 - val_acc: 0.5193\n",
            "Epoch 34/100\n",
            "50000/50000 [==============================] - 25s 509us/step - loss: 0.8870 - acc: 0.6822 - val_loss: 1.4883 - val_acc: 0.5260\n",
            "Epoch 35/100\n",
            "50000/50000 [==============================] - 26s 516us/step - loss: 0.8696 - acc: 0.6897 - val_loss: 1.4992 - val_acc: 0.5224\n",
            "Epoch 36/100\n",
            "50000/50000 [==============================] - 26s 514us/step - loss: 0.8654 - acc: 0.6889 - val_loss: 1.4750 - val_acc: 0.5253\n",
            "Epoch 37/100\n",
            "50000/50000 [==============================] - 26s 517us/step - loss: 0.8344 - acc: 0.7015 - val_loss: 1.5144 - val_acc: 0.5272\n",
            "Epoch 38/100\n",
            "50000/50000 [==============================] - 26s 519us/step - loss: 0.8160 - acc: 0.7061 - val_loss: 1.5416 - val_acc: 0.5351\n",
            "Epoch 39/100\n",
            "50000/50000 [==============================] - 26s 510us/step - loss: 0.8079 - acc: 0.7100 - val_loss: 1.5878 - val_acc: 0.5141\n",
            "Epoch 40/100\n",
            "50000/50000 [==============================] - 26s 512us/step - loss: 0.7917 - acc: 0.7172 - val_loss: 1.5514 - val_acc: 0.5194\n",
            "Epoch 41/100\n",
            "50000/50000 [==============================] - 26s 518us/step - loss: 0.7677 - acc: 0.7250 - val_loss: 1.6085 - val_acc: 0.5199\n",
            "Epoch 42/100\n",
            "50000/50000 [==============================] - 26s 517us/step - loss: 0.7611 - acc: 0.7280 - val_loss: 1.6220 - val_acc: 0.5135\n",
            "Epoch 43/100\n",
            "50000/50000 [==============================] - 25s 510us/step - loss: 0.7520 - acc: 0.7306 - val_loss: 1.6401 - val_acc: 0.5223\n",
            "Epoch 44/100\n",
            "50000/50000 [==============================] - 26s 519us/step - loss: 0.7408 - acc: 0.7343 - val_loss: 1.6310 - val_acc: 0.5248\n",
            "Epoch 45/100\n",
            "50000/50000 [==============================] - 26s 521us/step - loss: 0.7210 - acc: 0.7410 - val_loss: 1.6664 - val_acc: 0.5186\n",
            "Epoch 46/100\n",
            "50000/50000 [==============================] - 26s 512us/step - loss: 0.7113 - acc: 0.7437 - val_loss: 1.6611 - val_acc: 0.5230\n",
            "Epoch 47/100\n",
            "50000/50000 [==============================] - 26s 518us/step - loss: 0.6863 - acc: 0.7527 - val_loss: 1.7341 - val_acc: 0.5253\n",
            "Epoch 48/100\n",
            "50000/50000 [==============================] - 26s 522us/step - loss: 0.6862 - acc: 0.7534 - val_loss: 1.7825 - val_acc: 0.5131\n",
            "Epoch 49/100\n",
            "50000/50000 [==============================] - 26s 515us/step - loss: 0.6575 - acc: 0.7639 - val_loss: 1.8672 - val_acc: 0.5087\n",
            "Epoch 50/100\n",
            "50000/50000 [==============================] - 26s 515us/step - loss: 0.6458 - acc: 0.7663 - val_loss: 1.8225 - val_acc: 0.5093\n",
            "Epoch 51/100\n",
            "50000/50000 [==============================] - 26s 519us/step - loss: 0.6394 - acc: 0.7700 - val_loss: 1.7855 - val_acc: 0.5196\n",
            "Epoch 52/100\n",
            "50000/50000 [==============================] - 26s 513us/step - loss: 0.6311 - acc: 0.7716 - val_loss: 1.8377 - val_acc: 0.5167\n",
            "Epoch 53/100\n",
            "50000/50000 [==============================] - 26s 513us/step - loss: 0.6149 - acc: 0.7790 - val_loss: 1.8529 - val_acc: 0.5116\n",
            "Epoch 54/100\n",
            "50000/50000 [==============================] - 26s 520us/step - loss: 0.6161 - acc: 0.7784 - val_loss: 1.9742 - val_acc: 0.5110\n",
            "Epoch 55/100\n",
            "50000/50000 [==============================] - 26s 517us/step - loss: 0.5959 - acc: 0.7871 - val_loss: 1.9022 - val_acc: 0.5156\n",
            "Epoch 56/100\n",
            "50000/50000 [==============================] - 26s 522us/step - loss: 0.5878 - acc: 0.7876 - val_loss: 1.9544 - val_acc: 0.5156\n",
            "Epoch 57/100\n",
            "50000/50000 [==============================] - 26s 519us/step - loss: 0.5723 - acc: 0.7944 - val_loss: 1.9859 - val_acc: 0.5102\n",
            "Epoch 58/100\n",
            "50000/50000 [==============================] - 25s 508us/step - loss: 0.5751 - acc: 0.7939 - val_loss: 2.0273 - val_acc: 0.5011\n",
            "Epoch 59/100\n",
            "50000/50000 [==============================] - 26s 519us/step - loss: 0.5549 - acc: 0.8009 - val_loss: 2.0359 - val_acc: 0.5185\n",
            "Epoch 60/100\n",
            "50000/50000 [==============================] - 26s 515us/step - loss: 0.5492 - acc: 0.8014 - val_loss: 2.0731 - val_acc: 0.5132\n",
            "Epoch 61/100\n",
            "50000/50000 [==============================] - 26s 519us/step - loss: 0.5369 - acc: 0.8084 - val_loss: 2.0800 - val_acc: 0.5110\n",
            "Epoch 62/100\n",
            "50000/50000 [==============================] - 25s 509us/step - loss: 0.5335 - acc: 0.8100 - val_loss: 2.1619 - val_acc: 0.5107\n",
            "Epoch 63/100\n",
            "50000/50000 [==============================] - 26s 510us/step - loss: 0.5276 - acc: 0.8105 - val_loss: 2.0921 - val_acc: 0.5093\n",
            "Epoch 64/100\n",
            "50000/50000 [==============================] - 26s 523us/step - loss: 0.4872 - acc: 0.8264 - val_loss: 2.1690 - val_acc: 0.5133\n",
            "Epoch 65/100\n",
            "50000/50000 [==============================] - 26s 519us/step - loss: 0.4879 - acc: 0.8251 - val_loss: 2.2272 - val_acc: 0.5149\n",
            "Epoch 66/100\n",
            "50000/50000 [==============================] - 26s 512us/step - loss: 0.5043 - acc: 0.8183 - val_loss: 2.2444 - val_acc: 0.5011\n",
            "Epoch 67/100\n",
            "50000/50000 [==============================] - 26s 526us/step - loss: 0.5082 - acc: 0.8181 - val_loss: 2.2311 - val_acc: 0.5065\n",
            "Epoch 68/100\n",
            "50000/50000 [==============================] - 26s 523us/step - loss: 0.4839 - acc: 0.8272 - val_loss: 2.2571 - val_acc: 0.5085\n",
            "Epoch 69/100\n",
            "50000/50000 [==============================] - 26s 516us/step - loss: 0.4554 - acc: 0.8378 - val_loss: 2.3267 - val_acc: 0.5090\n",
            "Epoch 70/100\n",
            "50000/50000 [==============================] - 26s 518us/step - loss: 0.4558 - acc: 0.8381 - val_loss: 2.2917 - val_acc: 0.5073\n",
            "Epoch 71/100\n",
            "50000/50000 [==============================] - 26s 522us/step - loss: 0.4564 - acc: 0.8349 - val_loss: 2.3472 - val_acc: 0.5131\n",
            "Epoch 72/100\n",
            "50000/50000 [==============================] - 27s 533us/step - loss: 0.4520 - acc: 0.8372 - val_loss: 2.4094 - val_acc: 0.5042\n",
            "Epoch 73/100\n",
            "50000/50000 [==============================] - 26s 516us/step - loss: 0.4535 - acc: 0.8360 - val_loss: 2.3245 - val_acc: 0.5140\n",
            "Epoch 74/100\n",
            "50000/50000 [==============================] - 26s 519us/step - loss: 0.4331 - acc: 0.8444 - val_loss: 2.4526 - val_acc: 0.5099\n",
            "Epoch 75/100\n",
            "50000/50000 [==============================] - 26s 518us/step - loss: 0.4319 - acc: 0.8444 - val_loss: 2.4489 - val_acc: 0.5065\n",
            "Epoch 76/100\n",
            "50000/50000 [==============================] - 26s 514us/step - loss: 0.4139 - acc: 0.8490 - val_loss: 2.5571 - val_acc: 0.5033\n",
            "Epoch 77/100\n",
            "50000/50000 [==============================] - 27s 534us/step - loss: 0.4219 - acc: 0.8474 - val_loss: 2.5736 - val_acc: 0.5050\n",
            "Epoch 78/100\n",
            "50000/50000 [==============================] - 26s 519us/step - loss: 0.4148 - acc: 0.8502 - val_loss: 2.5491 - val_acc: 0.5077\n",
            "Epoch 79/100\n",
            "50000/50000 [==============================] - 26s 522us/step - loss: 0.4184 - acc: 0.8502 - val_loss: 2.5460 - val_acc: 0.5022\n",
            "Epoch 80/100\n",
            "50000/50000 [==============================] - 26s 522us/step - loss: 0.4087 - acc: 0.8533 - val_loss: 2.6533 - val_acc: 0.5005\n",
            "Epoch 81/100\n",
            "50000/50000 [==============================] - 26s 517us/step - loss: 0.4019 - acc: 0.8564 - val_loss: 2.5444 - val_acc: 0.5120\n",
            "Epoch 82/100\n",
            "50000/50000 [==============================] - 26s 528us/step - loss: 0.3821 - acc: 0.8622 - val_loss: 2.6982 - val_acc: 0.5011\n",
            "Epoch 83/100\n",
            "50000/50000 [==============================] - 26s 518us/step - loss: 0.3799 - acc: 0.8630 - val_loss: 2.6740 - val_acc: 0.5033\n",
            "Epoch 84/100\n",
            "50000/50000 [==============================] - 26s 524us/step - loss: 0.3886 - acc: 0.8599 - val_loss: 2.7213 - val_acc: 0.5041\n",
            "Epoch 85/100\n",
            "50000/50000 [==============================] - 26s 528us/step - loss: 0.3661 - acc: 0.8701 - val_loss: 2.6502 - val_acc: 0.5121\n",
            "Epoch 86/100\n",
            "50000/50000 [==============================] - 26s 528us/step - loss: 0.3589 - acc: 0.8719 - val_loss: 2.7260 - val_acc: 0.5010\n",
            "Epoch 87/100\n",
            "50000/50000 [==============================] - 26s 523us/step - loss: 0.3730 - acc: 0.8682 - val_loss: 2.7579 - val_acc: 0.5017\n",
            "Epoch 88/100\n",
            "50000/50000 [==============================] - 26s 520us/step - loss: 0.3525 - acc: 0.8736 - val_loss: 2.7915 - val_acc: 0.5046\n",
            "Epoch 89/100\n",
            "50000/50000 [==============================] - 26s 526us/step - loss: 0.3843 - acc: 0.8601 - val_loss: 2.7634 - val_acc: 0.5059\n",
            "Epoch 90/100\n",
            "50000/50000 [==============================] - 26s 528us/step - loss: 0.3497 - acc: 0.8747 - val_loss: 2.8041 - val_acc: 0.5031\n",
            "Epoch 91/100\n",
            "50000/50000 [==============================] - 26s 528us/step - loss: 0.3462 - acc: 0.8752 - val_loss: 2.9279 - val_acc: 0.4974\n",
            "Epoch 92/100\n",
            "50000/50000 [==============================] - 26s 525us/step - loss: 0.3373 - acc: 0.8785 - val_loss: 2.8220 - val_acc: 0.5050\n",
            "Epoch 93/100\n",
            "50000/50000 [==============================] - 26s 523us/step - loss: 0.3527 - acc: 0.8749 - val_loss: 2.7930 - val_acc: 0.5041\n",
            "Epoch 94/100\n",
            "50000/50000 [==============================] - 26s 522us/step - loss: 0.3297 - acc: 0.8820 - val_loss: 2.8545 - val_acc: 0.5083\n",
            "Epoch 95/100\n",
            "50000/50000 [==============================] - 27s 530us/step - loss: 0.3305 - acc: 0.8808 - val_loss: 2.8954 - val_acc: 0.5054\n",
            "Epoch 96/100\n",
            "50000/50000 [==============================] - 26s 526us/step - loss: 0.2995 - acc: 0.8932 - val_loss: 3.0166 - val_acc: 0.4993\n",
            "Epoch 97/100\n",
            "50000/50000 [==============================] - 26s 530us/step - loss: 0.3338 - acc: 0.8814 - val_loss: 2.9315 - val_acc: 0.5024\n",
            "Epoch 98/100\n",
            "50000/50000 [==============================] - 26s 527us/step - loss: 0.3421 - acc: 0.8764 - val_loss: 3.0711 - val_acc: 0.4995\n",
            "Epoch 99/100\n",
            "50000/50000 [==============================] - 27s 531us/step - loss: 0.3154 - acc: 0.8871 - val_loss: 2.9806 - val_acc: 0.5006\n",
            "Epoch 100/100\n",
            "50000/50000 [==============================] - 26s 528us/step - loss: 0.2850 - acc: 0.8995 - val_loss: 3.1017 - val_acc: 0.4972\n"
          ],
          "name": "stdout"
        },
        {
          "output_type": "execute_result",
          "data": {
            "text/plain": [
              "<keras.callbacks.History at 0x7fda48183828>"
            ]
          },
          "metadata": {
            "tags": []
          },
          "execution_count": 14
        }
      ]
    },
    {
      "cell_type": "code",
      "metadata": {
        "id": "DoONHtacEd5K",
        "colab_type": "code",
        "outputId": "39218bdd-86c7-4305-8a6b-b705480f8188",
        "colab": {
          "base_uri": "https://localhost:8080/",
          "height": 545
        }
      },
      "source": [
        "import matplotlib.pyplot as plt\n",
        "\n",
        "\n",
        "train_loss = model.history.history[\"loss\"]\n",
        "valid_loss = model.history.history[\"val_loss\"]\n",
        "\n",
        "train_acc = model.history.history[\"acc\"]\n",
        "valid_acc = model.history.history[\"val_acc\"]\n",
        "\n",
        "plt.plot(range(len(train_loss)), train_loss, label=\"train loss\")\n",
        "plt.plot(range(len(valid_loss)), valid_loss, label=\"valid loss\")\n",
        "plt.legend()\n",
        "plt.title(\"Loss\")\n",
        "plt.show()\n",
        "\n",
        "plt.plot(range(len(train_acc)), train_acc, label=\"train accuracy\")\n",
        "plt.plot(range(len(valid_acc)), valid_acc, label=\"valid accuracy\")\n",
        "plt.legend()\n",
        "plt.title(\"Accuracy\")\n",
        "plt.show()"
      ],
      "execution_count": 15,
      "outputs": [
        {
          "output_type": "display_data",
          "data": {
            "image/png": "[encoded data removed]",
            "text/plain": [
              "<Figure size 432x288 with 1 Axes>"
            ]
          },
          "metadata": {
            "tags": []
          }
        },
        {
          "output_type": "display_data",
          "data": {
            "image/png": "[encoded data removed]",
            "text/plain": [
              "<Figure size 432x288 with 1 Axes>"
            ]
          },
          "metadata": {
            "tags": []
          }
        }
      ]
    }
  ]
}